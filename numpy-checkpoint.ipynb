{
 "cells": [
  {
   "cell_type": "code",
   "execution_count": 2,
   "id": "144b8f68",
   "metadata": {},
   "outputs": [],
   "source": [
    "import numpy as np\n",
    "\n"
   ]
  },
  {
   "cell_type": "code",
   "execution_count": 11,
   "id": "a9801a96",
   "metadata": {},
   "outputs": [],
   "source": [
    "ar=np.array([2\n",
    "             ,3\n",
    "             ,4])"
   ]
  },
  {
   "cell_type": "code",
   "execution_count": 12,
   "id": "71a14212",
   "metadata": {},
   "outputs": [
    {
     "data": {
      "text/plain": [
       "(3,)"
      ]
     },
     "execution_count": 12,
     "metadata": {},
     "output_type": "execute_result"
    }
   ],
   "source": [
    "\n",
    "ar.shape"
   ]
  },
  {
   "cell_type": "code",
   "execution_count": 13,
   "id": "959306e4",
   "metadata": {},
   "outputs": [
    {
     "data": {
      "text/plain": [
       "3"
      ]
     },
     "execution_count": 13,
     "metadata": {},
     "output_type": "execute_result"
    }
   ],
   "source": [
    "ar.size"
   ]
  },
  {
   "cell_type": "code",
   "execution_count": 33,
   "id": "dd7f1c4e",
   "metadata": {},
   "outputs": [],
   "source": [
    "ar1=np.arange(225).reshape([5,5,9])\n",
    "ar1"
   ]
  },
  {
   "cell_type": "code",
   "execution_count": 34,
   "id": "fcfda5d2",
   "metadata": {},
   "outputs": [
    {
     "data": {
      "text/plain": [
       "array([[[  0,   1,   2,   3,   4,   5,   6,   7,   8],\n",
       "        [  9,  10,  11,  12,  13,  14,  15,  16,  17],\n",
       "        [ 18,  19,  20,  21,  22,  23,  24,  25,  26],\n",
       "        [ 27,  28,  29,  30,  31,  32,  33,  34,  35],\n",
       "        [ 36,  37,  38,  39,  40,  41,  42,  43,  44]],\n",
       "\n",
       "       [[ 45,  46,  47,  48,  49,  50,  51,  52,  53],\n",
       "        [ 54,  55,  56,  57,  58,  59,  60,  61,  62],\n",
       "        [ 63,  64,  65,  66,  67,  68,  69,  70,  71],\n",
       "        [ 72,  73,  74,  75,  76,  77,  78,  79,  80],\n",
       "        [ 81,  82,  83,  84,  85,  86,  87,  88,  89]],\n",
       "\n",
       "       [[ 90,  91,  92,  93,  94,  95,  96,  97,  98],\n",
       "        [ 99, 100, 101, 102, 103, 104, 105, 106, 107],\n",
       "        [108, 109, 110, 111, 112, 113, 114, 115, 116],\n",
       "        [117, 118, 119, 120, 121, 122, 123, 124, 125],\n",
       "        [126, 127, 128, 129, 130, 131, 132, 133, 134]],\n",
       "\n",
       "       [[135, 136, 137, 138, 139, 140, 141, 142, 143],\n",
       "        [144, 145, 146, 147, 148, 149, 150, 151, 152],\n",
       "        [153, 154, 155, 156, 157, 158, 159, 160, 161],\n",
       "        [162, 163, 164, 165, 166, 167, 168, 169, 170],\n",
       "        [171, 172, 173, 174, 175, 176, 177, 178, 179]],\n",
       "\n",
       "       [[180, 181, 182, 183, 184, 185, 186, 187, 188],\n",
       "        [189, 190, 191, 192, 193, 194, 195, 196, 197],\n",
       "        [198, 199, 200, 201, 202, 203, 204, 205, 206],\n",
       "        [207, 208, 209, 210, 211, 212, 213, 214, 215],\n",
       "        [216, 217, 218, 219, 220, 221, 222, 223, 224]]])"
      ]
     },
     "execution_count": 34,
     "metadata": {},
     "output_type": "execute_result"
    }
   ],
   "source": [
    "ar1"
   ]
  },
  {
   "cell_type": "code",
   "execution_count": 36,
   "id": "a0c44476",
   "metadata": {},
   "outputs": [
    {
     "data": {
      "text/plain": [
       "array([[[  0,   1,   2,   3,   4],\n",
       "        [  5,   6,   7,   8,   9],\n",
       "        [ 10,  11,  12,  13,  14],\n",
       "        [ 15,  16,  17,  18,  19],\n",
       "        [ 20,  21,  22,  23,  24],\n",
       "        [ 25,  26,  27,  28,  29],\n",
       "        [ 30,  31,  32,  33,  34],\n",
       "        [ 35,  36,  37,  38,  39],\n",
       "        [ 40,  41,  42,  43,  44]],\n",
       "\n",
       "       [[ 45,  46,  47,  48,  49],\n",
       "        [ 50,  51,  52,  53,  54],\n",
       "        [ 55,  56,  57,  58,  59],\n",
       "        [ 60,  61,  62,  63,  64],\n",
       "        [ 65,  66,  67,  68,  69],\n",
       "        [ 70,  71,  72,  73,  74],\n",
       "        [ 75,  76,  77,  78,  79],\n",
       "        [ 80,  81,  82,  83,  84],\n",
       "        [ 85,  86,  87,  88,  89]],\n",
       "\n",
       "       [[ 90,  91,  92,  93,  94],\n",
       "        [ 95,  96,  97,  98,  99],\n",
       "        [100, 101, 102, 103, 104],\n",
       "        [105, 106, 107, 108, 109],\n",
       "        [110, 111, 112, 113, 114],\n",
       "        [115, 116, 117, 118, 119],\n",
       "        [120, 121, 122, 123, 124],\n",
       "        [125, 126, 127, 128, 129],\n",
       "        [130, 131, 132, 133, 134]],\n",
       "\n",
       "       [[135, 136, 137, 138, 139],\n",
       "        [140, 141, 142, 143, 144],\n",
       "        [145, 146, 147, 148, 149],\n",
       "        [150, 151, 152, 153, 154],\n",
       "        [155, 156, 157, 158, 159],\n",
       "        [160, 161, 162, 163, 164],\n",
       "        [165, 166, 167, 168, 169],\n",
       "        [170, 171, 172, 173, 174],\n",
       "        [175, 176, 177, 178, 179]],\n",
       "\n",
       "       [[180, 181, 182, 183, 184],\n",
       "        [185, 186, 187, 188, 189],\n",
       "        [190, 191, 192, 193, 194],\n",
       "        [195, 196, 197, 198, 199],\n",
       "        [200, 201, 202, 203, 204],\n",
       "        [205, 206, 207, 208, 209],\n",
       "        [210, 211, 212, 213, 214],\n",
       "        [215, 216, 217, 218, 219],\n",
       "        [220, 221, 222, 223, 224]]])"
      ]
     },
     "execution_count": 36,
     "metadata": {},
     "output_type": "execute_result"
    }
   ],
   "source": [
    "ar1=np.arange(225).reshape([5,9,5])\n",
    "ar1"
   ]
  },
  {
   "cell_type": "code",
   "execution_count": 37,
   "id": "81643171",
   "metadata": {},
   "outputs": [
    {
     "data": {
      "text/plain": [
       "array([[[  0,   1,   2],\n",
       "        [  3,   4,   5],\n",
       "        [  6,   7,   8],\n",
       "        [  9,  10,  11],\n",
       "        [ 12,  13,  14],\n",
       "        [ 15,  16,  17],\n",
       "        [ 18,  19,  20],\n",
       "        [ 21,  22,  23],\n",
       "        [ 24,  25,  26],\n",
       "        [ 27,  28,  29]],\n",
       "\n",
       "       [[ 30,  31,  32],\n",
       "        [ 33,  34,  35],\n",
       "        [ 36,  37,  38],\n",
       "        [ 39,  40,  41],\n",
       "        [ 42,  43,  44],\n",
       "        [ 45,  46,  47],\n",
       "        [ 48,  49,  50],\n",
       "        [ 51,  52,  53],\n",
       "        [ 54,  55,  56],\n",
       "        [ 57,  58,  59]],\n",
       "\n",
       "       [[ 60,  61,  62],\n",
       "        [ 63,  64,  65],\n",
       "        [ 66,  67,  68],\n",
       "        [ 69,  70,  71],\n",
       "        [ 72,  73,  74],\n",
       "        [ 75,  76,  77],\n",
       "        [ 78,  79,  80],\n",
       "        [ 81,  82,  83],\n",
       "        [ 84,  85,  86],\n",
       "        [ 87,  88,  89]],\n",
       "\n",
       "       [[ 90,  91,  92],\n",
       "        [ 93,  94,  95],\n",
       "        [ 96,  97,  98],\n",
       "        [ 99, 100, 101],\n",
       "        [102, 103, 104],\n",
       "        [105, 106, 107],\n",
       "        [108, 109, 110],\n",
       "        [111, 112, 113],\n",
       "        [114, 115, 116],\n",
       "        [117, 118, 119]],\n",
       "\n",
       "       [[120, 121, 122],\n",
       "        [123, 124, 125],\n",
       "        [126, 127, 128],\n",
       "        [129, 130, 131],\n",
       "        [132, 133, 134],\n",
       "        [135, 136, 137],\n",
       "        [138, 139, 140],\n",
       "        [141, 142, 143],\n",
       "        [144, 145, 146],\n",
       "        [147, 148, 149]],\n",
       "\n",
       "       [[150, 151, 152],\n",
       "        [153, 154, 155],\n",
       "        [156, 157, 158],\n",
       "        [159, 160, 161],\n",
       "        [162, 163, 164],\n",
       "        [165, 166, 167],\n",
       "        [168, 169, 170],\n",
       "        [171, 172, 173],\n",
       "        [174, 175, 176],\n",
       "        [177, 178, 179]],\n",
       "\n",
       "       [[180, 181, 182],\n",
       "        [183, 184, 185],\n",
       "        [186, 187, 188],\n",
       "        [189, 190, 191],\n",
       "        [192, 193, 194],\n",
       "        [195, 196, 197],\n",
       "        [198, 199, 200],\n",
       "        [201, 202, 203],\n",
       "        [204, 205, 206],\n",
       "        [207, 208, 209]],\n",
       "\n",
       "       [[210, 211, 212],\n",
       "        [213, 214, 215],\n",
       "        [216, 217, 218],\n",
       "        [219, 220, 221],\n",
       "        [222, 223, 224],\n",
       "        [225, 226, 227],\n",
       "        [228, 229, 230],\n",
       "        [231, 232, 233],\n",
       "        [234, 235, 236],\n",
       "        [237, 238, 239]],\n",
       "\n",
       "       [[240, 241, 242],\n",
       "        [243, 244, 245],\n",
       "        [246, 247, 248],\n",
       "        [249, 250, 251],\n",
       "        [252, 253, 254],\n",
       "        [255, 256, 257],\n",
       "        [258, 259, 260],\n",
       "        [261, 262, 263],\n",
       "        [264, 265, 266],\n",
       "        [267, 268, 269]],\n",
       "\n",
       "       [[270, 271, 272],\n",
       "        [273, 274, 275],\n",
       "        [276, 277, 278],\n",
       "        [279, 280, 281],\n",
       "        [282, 283, 284],\n",
       "        [285, 286, 287],\n",
       "        [288, 289, 290],\n",
       "        [291, 292, 293],\n",
       "        [294, 295, 296],\n",
       "        [297, 298, 299]]])"
      ]
     },
     "execution_count": 37,
     "metadata": {},
     "output_type": "execute_result"
    }
   ],
   "source": [
    "ar1=np.arange(300).reshape([10,10,3])\n",
    "ar1"
   ]
  },
  {
   "cell_type": "code",
   "execution_count": 41,
   "id": "3dd66096",
   "metadata": {},
   "outputs": [],
   "source": [
    "ar2=np.array([[12,78]])"
   ]
  },
  {
   "cell_type": "code",
   "execution_count": 44,
   "id": "9e0fedf5",
   "metadata": {},
   "outputs": [
    {
     "ename": "TypeError",
     "evalue": "flatten() takes from 0 to 1 positional arguments but 2 were given",
     "output_type": "error",
     "traceback": [
      "\u001b[1;31m---------------------------------------------------------------------------\u001b[0m",
      "\u001b[1;31mTypeError\u001b[0m                                 Traceback (most recent call last)",
      "Input \u001b[1;32mIn [44]\u001b[0m, in \u001b[0;36m<cell line: 1>\u001b[1;34m()\u001b[0m\n\u001b[1;32m----> 1\u001b[0m \u001b[43mar2\u001b[49m\u001b[38;5;241;43m.\u001b[39;49m\u001b[43mflatten\u001b[49m\u001b[43m(\u001b[49m\u001b[38;5;241;43m2\u001b[39;49m\u001b[43m,\u001b[49m\u001b[38;5;241;43m1\u001b[39;49m\u001b[43m)\u001b[49m\n",
      "\u001b[1;31mTypeError\u001b[0m: flatten() takes from 0 to 1 positional arguments but 2 were given"
     ]
    }
   ],
   "source": [
    "ar2.flatten(2,1)"
   ]
  },
  {
   "cell_type": "code",
   "execution_count": 52,
   "id": "1d75e8b6",
   "metadata": {},
   "outputs": [],
   "source": [
    "c"
   ]
  },
  {
   "cell_type": "code",
   "execution_count": 53,
   "id": "ccbc34b9",
   "metadata": {},
   "outputs": [
    {
     "data": {
      "text/plain": [
       "array([[  0,   1,   2,   3,   4,   5,   6,   7,   8,   9,  10,  11,  12,\n",
       "         13,  14,  15,  16,  17,  18,  19,  20,  21,  22,  23,  24,  25,\n",
       "         26,  27,  28,  29],\n",
       "       [ 30,  31,  32,  33,  34,  35,  36,  37,  38,  39,  40,  41,  42,\n",
       "         43,  44,  45,  46,  47,  48,  49,  50,  51,  52,  53,  54,  55,\n",
       "         56,  57,  58,  59],\n",
       "       [ 60,  61,  62,  63,  64,  65,  66,  67,  68,  69,  70,  71,  72,\n",
       "         73,  74,  75,  76,  77,  78,  79,  80,  81,  82,  83,  84,  85,\n",
       "         86,  87,  88,  89],\n",
       "       [ 90,  91,  92,  93,  94,  95,  96,  97,  98,  99, 100, 101, 102,\n",
       "        103, 104, 105, 106, 107, 108, 109, 110, 111, 112, 113, 114, 115,\n",
       "        116, 117, 118, 119],\n",
       "       [120, 121, 122, 123, 124, 125, 126, 127, 128, 129, 130, 131, 132,\n",
       "        133, 134, 135, 136, 137, 138, 139, 140, 141, 142, 143, 144, 145,\n",
       "        146, 147, 148, 149],\n",
       "       [150, 151, 152, 153, 154, 155, 156, 157, 158, 159, 160, 161, 162,\n",
       "        163, 164, 165, 166, 167, 168, 169, 170, 171, 172, 173, 174, 175,\n",
       "        176, 177, 178, 179],\n",
       "       [180, 181, 182, 183, 184, 185, 186, 187, 188, 189, 190, 191, 192,\n",
       "        193, 194, 195, 196, 197, 198, 199, 200, 201, 202, 203, 204, 205,\n",
       "        206, 207, 208, 209],\n",
       "       [210, 211, 212, 213, 214, 215, 216, 217, 218, 219, 220, 221, 222,\n",
       "        223, 224, 225, 226, 227, 228, 229, 230, 231, 232, 233, 234, 235,\n",
       "        236, 237, 238, 239],\n",
       "       [240, 241, 242, 243, 244, 245, 246, 247, 248, 249, 250, 251, 252,\n",
       "        253, 254, 255, 256, 257, 258, 259, 260, 261, 262, 263, 264, 265,\n",
       "        266, 267, 268, 269],\n",
       "       [270, 271, 272, 273, 274, 275, 276, 277, 278, 279, 280, 281, 282,\n",
       "        283, 284, 285, 286, 287, 288, 289, 290, 291, 292, 293, 294, 295,\n",
       "        296, 297, 298, 299]])"
      ]
     },
     "execution_count": 53,
     "metadata": {},
     "output_type": "execute_result"
    }
   ],
   "source": [
    "ar1\n"
   ]
  },
  {
   "cell_type": "code",
   "execution_count": 63,
   "id": "553bfbe7",
   "metadata": {},
   "outputs": [],
   "source": [
    "ar1=np.arange(27).reshape([3,3,3])"
   ]
  },
  {
   "cell_type": "code",
   "execution_count": 64,
   "id": "6b110606",
   "metadata": {},
   "outputs": [
    {
     "data": {
      "text/plain": [
       "array([[[ 0,  1,  2],\n",
       "        [ 3,  4,  5],\n",
       "        [ 6,  7,  8]],\n",
       "\n",
       "       [[ 9, 10, 11],\n",
       "        [12, 13, 14],\n",
       "        [15, 16, 17]],\n",
       "\n",
       "       [[18, 19, 20],\n",
       "        [21, 22, 23],\n",
       "        [24, 25, 26]]])"
      ]
     },
     "execution_count": 64,
     "metadata": {},
     "output_type": "execute_result"
    }
   ],
   "source": [
    "ar1"
   ]
  },
  {
   "cell_type": "code",
   "execution_count": 72,
   "id": "ca52afcd",
   "metadata": {},
   "outputs": [],
   "source": [
    "ar1*=5"
   ]
  },
  {
   "cell_type": "code",
   "execution_count": 74,
   "id": "dec1ff51",
   "metadata": {},
   "outputs": [
    {
     "data": {
      "text/plain": [
       "195"
      ]
     },
     "execution_count": 74,
     "metadata": {},
     "output_type": "execute_result"
    }
   ],
   "source": [
    "ar1[1,1,1]*3"
   ]
  },
  {
   "cell_type": "code",
   "execution_count": 75,
   "id": "262ecc81",
   "metadata": {},
   "outputs": [
    {
     "data": {
      "text/plain": [
       "array([[[  0,   5,  10],\n",
       "        [ 15,  20,  25],\n",
       "        [ 30,  35,  40]],\n",
       "\n",
       "       [[ 45,  50,  55],\n",
       "        [ 60,  65,  70],\n",
       "        [ 75,  80,  85]],\n",
       "\n",
       "       [[ 90,  95, 100],\n",
       "        [105, 110, 115],\n",
       "        [120, 125, 130]]])"
      ]
     },
     "execution_count": 75,
     "metadata": {},
     "output_type": "execute_result"
    }
   ],
   "source": [
    "ar1"
   ]
  },
  {
   "cell_type": "code",
   "execution_count": 76,
   "id": "7ada5595",
   "metadata": {},
   "outputs": [],
   "source": [
    "a=np.arange(30).reshape([5,6])"
   ]
  },
  {
   "cell_type": "code",
   "execution_count": 77,
   "id": "ed66e06d",
   "metadata": {},
   "outputs": [
    {
     "data": {
      "text/plain": [
       "array([[ 0,  1,  2,  3,  4,  5],\n",
       "       [ 6,  7,  8,  9, 10, 11],\n",
       "       [12, 13, 14, 15, 16, 17],\n",
       "       [18, 19, 20, 21, 22, 23],\n",
       "       [24, 25, 26, 27, 28, 29]])"
      ]
     },
     "execution_count": 77,
     "metadata": {},
     "output_type": "execute_result"
    }
   ],
   "source": [
    "a"
   ]
  },
  {
   "cell_type": "code",
   "execution_count": 78,
   "id": "4ec908de",
   "metadata": {},
   "outputs": [],
   "source": [
    "b=np.arange(30,60).reshape([6,5])"
   ]
  },
  {
   "cell_type": "code",
   "execution_count": 79,
   "id": "d76ac772",
   "metadata": {},
   "outputs": [
    {
     "data": {
      "text/plain": [
       "array([[30, 31, 32, 33, 34],\n",
       "       [35, 36, 37, 38, 39],\n",
       "       [40, 41, 42, 43, 44],\n",
       "       [45, 46, 47, 48, 49],\n",
       "       [50, 51, 52, 53, 54],\n",
       "       [55, 56, 57, 58, 59]])"
      ]
     },
     "execution_count": 79,
     "metadata": {},
     "output_type": "execute_result"
    }
   ],
   "source": [
    "b"
   ]
  },
  {
   "cell_type": "code",
   "execution_count": 83,
   "id": "99a0e5cd",
   "metadata": {},
   "outputs": [
    {
     "data": {
      "text/plain": [
       "array([[1980, 2140, 2300, 2460, 2620, 2780],\n",
       "       [2280, 2465, 2650, 2835, 3020, 3205],\n",
       "       [2580, 2790, 3000, 3210, 3420, 3630],\n",
       "       [2880, 3115, 3350, 3585, 3820, 4055],\n",
       "       [3180, 3440, 3700, 3960, 4220, 4480],\n",
       "       [3480, 3765, 4050, 4335, 4620, 4905]])"
      ]
     },
     "execution_count": 83,
     "metadata": {},
     "output_type": "execute_result"
    }
   ],
   "source": [
    "#(6,5)(5,6)\n",
    "b@a"
   ]
  },
  {
   "cell_type": "code",
   "execution_count": 84,
   "id": "41888770",
   "metadata": {},
   "outputs": [
    {
     "data": {
      "text/plain": [
       "array([[ 725,  740,  755,  770,  785],\n",
       "       [2255, 2306, 2357, 2408, 2459],\n",
       "       [3785, 3872, 3959, 4046, 4133],\n",
       "       [5315, 5438, 5561, 5684, 5807],\n",
       "       [6845, 7004, 7163, 7322, 7481]])"
      ]
     },
     "execution_count": 84,
     "metadata": {},
     "output_type": "execute_result"
    }
   ],
   "source": [
    "#(5,6)(6,5)\n",
    "a@b"
   ]
  },
  {
   "cell_type": "code",
   "execution_count": 88,
   "id": "0f7f9c11",
   "metadata": {},
   "outputs": [
    {
     "data": {
      "text/plain": [
       "array([[ 0,  1,  2,  3],\n",
       "       [ 4,  5,  6,  7],\n",
       "       [ 8,  9, 10, 11],\n",
       "       [12, 13, 14, 15]])"
      ]
     },
     "execution_count": 88,
     "metadata": {},
     "output_type": "execute_result"
    }
   ],
   "source": [
    "c=np.arange(16).reshape([4,4])\n",
    "c"
   ]
  },
  {
   "cell_type": "code",
   "execution_count": 89,
   "id": "bf98a0df",
   "metadata": {},
   "outputs": [
    {
     "data": {
      "text/plain": [
       "array([[16, 17, 18, 19],\n",
       "       [20, 21, 22, 23],\n",
       "       [24, 25, 26, 27],\n",
       "       [28, 29, 30, 31]])"
      ]
     },
     "execution_count": 89,
     "metadata": {},
     "output_type": "execute_result"
    }
   ],
   "source": [
    "d=np.arange(16,32).reshape([4,4])\n",
    "d"
   ]
  },
  {
   "cell_type": "code",
   "execution_count": 90,
   "id": "e1d39f69",
   "metadata": {},
   "outputs": [
    {
     "data": {
      "text/plain": [
       "array([[16, 18, 20, 22],\n",
       "       [24, 26, 28, 30],\n",
       "       [32, 34, 36, 38],\n",
       "       [40, 42, 44, 46]])"
      ]
     },
     "execution_count": 90,
     "metadata": {},
     "output_type": "execute_result"
    }
   ],
   "source": [
    "c+d"
   ]
  },
  {
   "cell_type": "code",
   "execution_count": 91,
   "id": "2f7c4ef2",
   "metadata": {},
   "outputs": [
    {
     "data": {
      "text/plain": [
       "array([[-16, -16, -16, -16],\n",
       "       [-16, -16, -16, -16],\n",
       "       [-16, -16, -16, -16],\n",
       "       [-16, -16, -16, -16]])"
      ]
     },
     "execution_count": 91,
     "metadata": {},
     "output_type": "execute_result"
    }
   ],
   "source": [
    "c-d"
   ]
  },
  {
   "cell_type": "code",
   "execution_count": 92,
   "id": "64ae94fd",
   "metadata": {},
   "outputs": [
    {
     "data": {
      "text/plain": [
       "array([[0.        , 0.05882353, 0.11111111, 0.15789474],\n",
       "       [0.2       , 0.23809524, 0.27272727, 0.30434783],\n",
       "       [0.33333333, 0.36      , 0.38461538, 0.40740741],\n",
       "       [0.42857143, 0.44827586, 0.46666667, 0.48387097]])"
      ]
     },
     "execution_count": 92,
     "metadata": {},
     "output_type": "execute_result"
    }
   ],
   "source": [
    "c/d"
   ]
  },
  {
   "cell_type": "code",
   "execution_count": 93,
   "id": "b547d38d",
   "metadata": {},
   "outputs": [
    {
     "data": {
      "text/plain": [
       "array([[  0,  17,  36,  57],\n",
       "       [ 80, 105, 132, 161],\n",
       "       [192, 225, 260, 297],\n",
       "       [336, 377, 420, 465]])"
      ]
     },
     "execution_count": 93,
     "metadata": {},
     "output_type": "execute_result"
    }
   ],
   "source": [
    "c*d"
   ]
  },
  {
   "cell_type": "code",
   "execution_count": 43,
   "id": "eae15f92",
   "metadata": {},
   "outputs": [],
   "source": [
    "d=np.arange(16,32).reshape([4,4])"
   ]
  },
  {
   "cell_type": "code",
   "execution_count": 44,
   "id": "85f671bc",
   "metadata": {},
   "outputs": [
    {
     "data": {
      "text/plain": [
       "array([[16, 17, 18, 19],\n",
       "       [20, 21, 22, 23],\n",
       "       [24, 25, 26, 27],\n",
       "       [28, 29, 30, 31]])"
      ]
     },
     "execution_count": 44,
     "metadata": {},
     "output_type": "execute_result"
    }
   ],
   "source": [
    "d"
   ]
  },
  {
   "cell_type": "code",
   "execution_count": 6,
   "id": "d52e8734",
   "metadata": {},
   "outputs": [
    {
     "data": {
      "text/plain": [
       "array([[21]])"
      ]
     },
     "execution_count": 6,
     "metadata": {},
     "output_type": "execute_result"
    }
   ],
   "source": [
    "d[1:2,1:2]\n",
    "#this is array slicing"
   ]
  },
  {
   "cell_type": "code",
   "execution_count": 7,
   "id": "966b7129",
   "metadata": {},
   "outputs": [
    {
     "data": {
      "text/plain": [
       "22"
      ]
     },
     "execution_count": 7,
     "metadata": {},
     "output_type": "execute_result"
    }
   ],
   "source": [
    "d[1,2]"
   ]
  },
  {
   "cell_type": "code",
   "execution_count": 10,
   "id": "d08cabdf",
   "metadata": {},
   "outputs": [
    {
     "data": {
      "text/plain": [
       "array([[16, 17, 18, 19],\n",
       "       [20, 21, 22, 23],\n",
       "       [24, 25, 26, 27],\n",
       "       [28, 29, 30, 31]])"
      ]
     },
     "execution_count": 10,
     "metadata": {},
     "output_type": "execute_result"
    }
   ],
   "source": [
    "d[:4,:4]"
   ]
  },
  {
   "cell_type": "code",
   "execution_count": 12,
   "id": "bfcd854d",
   "metadata": {},
   "outputs": [
    {
     "data": {
      "text/plain": [
       "array([16, 17, 18, 19])"
      ]
     },
     "execution_count": 12,
     "metadata": {},
     "output_type": "execute_result"
    }
   ],
   "source": [
    "d[0,0:4]"
   ]
  },
  {
   "cell_type": "code",
   "execution_count": 13,
   "id": "797cb0fe",
   "metadata": {},
   "outputs": [
    {
     "data": {
      "text/plain": [
       "array([[16, 17, 18, 19]])"
      ]
     },
     "execution_count": 13,
     "metadata": {},
     "output_type": "execute_result"
    }
   ],
   "source": [
    "d[0:1,0:4]"
   ]
  },
  {
   "cell_type": "code",
   "execution_count": 14,
   "id": "11a04210",
   "metadata": {},
   "outputs": [
    {
     "data": {
      "text/plain": [
       "array([16, 20, 24, 28])"
      ]
     },
     "execution_count": 14,
     "metadata": {},
     "output_type": "execute_result"
    }
   ],
   "source": [
    "d[0:4,0]"
   ]
  },
  {
   "cell_type": "code",
   "execution_count": 15,
   "id": "f8d09221",
   "metadata": {},
   "outputs": [
    {
     "data": {
      "text/plain": [
       "array([[16],\n",
       "       [20],\n",
       "       [24],\n",
       "       [28]])"
      ]
     },
     "execution_count": 15,
     "metadata": {},
     "output_type": "execute_result"
    }
   ],
   "source": [
    "d[0:4,0:1]"
   ]
  },
  {
   "cell_type": "code",
   "execution_count": 17,
   "id": "37af960d",
   "metadata": {},
   "outputs": [
    {
     "data": {
      "text/plain": [
       "array([28, 29, 30, 31])"
      ]
     },
     "execution_count": 17,
     "metadata": {},
     "output_type": "execute_result"
    }
   ],
   "source": [
    "d[3,:4]"
   ]
  },
  {
   "cell_type": "code",
   "execution_count": 18,
   "id": "a218b19b",
   "metadata": {},
   "outputs": [
    {
     "data": {
      "text/plain": [
       "array([[28, 29, 30, 31]])"
      ]
     },
     "execution_count": 18,
     "metadata": {},
     "output_type": "execute_result"
    }
   ],
   "source": [
    "d[3:4,:4]"
   ]
  },
  {
   "cell_type": "code",
   "execution_count": 23,
   "id": "1d442f28",
   "metadata": {},
   "outputs": [],
   "source": [
    "a=d>=20"
   ]
  },
  {
   "cell_type": "code",
   "execution_count": 25,
   "id": "b6f2dca9",
   "metadata": {},
   "outputs": [
    {
     "data": {
      "text/plain": [
       "array([20, 21, 22, 23, 24, 25, 26, 27, 28, 29, 30, 31])"
      ]
     },
     "execution_count": 25,
     "metadata": {},
     "output_type": "execute_result"
    }
   ],
   "source": [
    "d[a]"
   ]
  },
  {
   "cell_type": "code",
   "execution_count": 32,
   "id": "6bdcbb02",
   "metadata": {},
   "outputs": [
    {
     "data": {
      "text/plain": [
       "array([[50, 50, 50, 50],\n",
       "       [50, 50, 50, 50],\n",
       "       [50, 50, 50, 50],\n",
       "       [50, 50, 50, 50]])"
      ]
     },
     "execution_count": 32,
     "metadata": {},
     "output_type": "execute_result"
    }
   ],
   "source": [
    "d[d>10]=50\n",
    "d"
   ]
  },
  {
   "cell_type": "code",
   "execution_count": 33,
   "id": "821a6710",
   "metadata": {},
   "outputs": [
    {
     "data": {
      "text/plain": [
       "array([[50, 50, 50, 50],\n",
       "       [50, 50, 50, 50],\n",
       "       [50, 50, 50, 50],\n",
       "       [50, 50, 50, 50]])"
      ]
     },
     "execution_count": 33,
     "metadata": {},
     "output_type": "execute_result"
    }
   ],
   "source": [
    "d"
   ]
  },
  {
   "cell_type": "code",
   "execution_count": 34,
   "id": "c47db22d",
   "metadata": {},
   "outputs": [
    {
     "data": {
      "text/plain": [
       "array([[50, 50, 50, 50],\n",
       "       [50, 50, 50, 50],\n",
       "       [50, 50, 50, 50],\n",
       "       [50, 50, 50, 50]])"
      ]
     },
     "execution_count": 34,
     "metadata": {},
     "output_type": "execute_result"
    }
   ],
   "source": [
    "d"
   ]
  },
  {
   "cell_type": "code",
   "execution_count": 37,
   "id": "398a6009",
   "metadata": {},
   "outputs": [
    {
     "data": {
      "text/plain": [
       "array([[1, 1, 1, 1],\n",
       "       [0, 0, 0, 0],\n",
       "       [0, 0, 0, 0],\n",
       "       [0, 0, 0, 0]])"
      ]
     },
     "execution_count": 37,
     "metadata": {},
     "output_type": "execute_result"
    }
   ],
   "source": [
    "np.where(d<20,1,0)"
   ]
  },
  {
   "cell_type": "code",
   "execution_count": 45,
   "id": "5d02acda",
   "metadata": {},
   "outputs": [
    {
     "data": {
      "text/plain": [
       "array([[16, 17, 18, 19],\n",
       "       [20, 21, 22, 23],\n",
       "       [24, 25, 26, 27],\n",
       "       [28, 29, 30, 31]])"
      ]
     },
     "execution_count": 45,
     "metadata": {},
     "output_type": "execute_result"
    }
   ],
   "source": [
    "d"
   ]
  },
  {
   "cell_type": "code",
   "execution_count": 46,
   "id": "bfcee9b0",
   "metadata": {},
   "outputs": [],
   "source": [
    "c=np.arange(32,48).reshape([4,4])"
   ]
  },
  {
   "cell_type": "code",
   "execution_count": 49,
   "id": "9ba8cec7",
   "metadata": {},
   "outputs": [
    {
     "data": {
      "text/plain": [
       "array([[32, 33, 34, 35],\n",
       "       [36, 37, 38, 39],\n",
       "       [40, 41, 42, 43],\n",
       "       [44, 45, 46, 47],\n",
       "       [16, 17, 18, 19],\n",
       "       [20, 21, 22, 23],\n",
       "       [24, 25, 26, 27],\n",
       "       [28, 29, 30, 31]])"
      ]
     },
     "execution_count": 49,
     "metadata": {},
     "output_type": "execute_result"
    }
   ],
   "source": [
    "np.concatenate((c,d),axis=0)"
   ]
  },
  {
   "cell_type": "code",
   "execution_count": 50,
   "id": "1a542537",
   "metadata": {},
   "outputs": [
    {
     "data": {
      "text/plain": [
       "array([[32, 33, 34, 35, 16, 17, 18, 19],\n",
       "       [36, 37, 38, 39, 20, 21, 22, 23],\n",
       "       [40, 41, 42, 43, 24, 25, 26, 27],\n",
       "       [44, 45, 46, 47, 28, 29, 30, 31]])"
      ]
     },
     "execution_count": 50,
     "metadata": {},
     "output_type": "execute_result"
    }
   ],
   "source": [
    "np.concatenate((c,d),axis=1)"
   ]
  },
  {
   "cell_type": "code",
   "execution_count": 55,
   "id": "0391ed57",
   "metadata": {},
   "outputs": [
    {
     "data": {
      "text/plain": [
       "array([[[32, 33, 34, 35],\n",
       "        [36, 37, 38, 39],\n",
       "        [40, 41, 42, 43],\n",
       "        [44, 45, 46, 47]],\n",
       "\n",
       "       [[16, 17, 18, 19],\n",
       "        [20, 21, 22, 23],\n",
       "        [24, 25, 26, 27],\n",
       "        [28, 29, 30, 31]]])"
      ]
     },
     "execution_count": 55,
     "metadata": {},
     "output_type": "execute_result"
    }
   ],
   "source": [
    "np.stack((c,d))"
   ]
  },
  {
   "cell_type": "code",
   "execution_count": 56,
   "id": "422cd1b8",
   "metadata": {},
   "outputs": [
    {
     "data": {
      "text/plain": [
       "array([[32, 33, 34, 35, 16, 17, 18, 19],\n",
       "       [36, 37, 38, 39, 20, 21, 22, 23],\n",
       "       [40, 41, 42, 43, 24, 25, 26, 27],\n",
       "       [44, 45, 46, 47, 28, 29, 30, 31]])"
      ]
     },
     "execution_count": 56,
     "metadata": {},
     "output_type": "execute_result"
    }
   ],
   "source": [
    "np.hstack((c,d))"
   ]
  },
  {
   "cell_type": "code",
   "execution_count": 57,
   "id": "47fd687c",
   "metadata": {},
   "outputs": [
    {
     "data": {
      "text/plain": [
       "array([[32, 33, 34, 35],\n",
       "       [36, 37, 38, 39],\n",
       "       [40, 41, 42, 43],\n",
       "       [44, 45, 46, 47],\n",
       "       [16, 17, 18, 19],\n",
       "       [20, 21, 22, 23],\n",
       "       [24, 25, 26, 27],\n",
       "       [28, 29, 30, 31]])"
      ]
     },
     "execution_count": 57,
     "metadata": {},
     "output_type": "execute_result"
    }
   ],
   "source": [
    "np.vstack((c,d))"
   ]
  },
  {
   "cell_type": "code",
   "execution_count": null,
   "id": "9f33f244",
   "metadata": {},
   "outputs": [],
   "source": []
  }
 ],
 "metadata": {
  "kernelspec": {
   "display_name": "Python 3 (ipykernel)",
   "language": "python",
   "name": "python3"
  },
  "language_info": {
   "codemirror_mode": {
    "name": "ipython",
    "version": 3
   },
   "file_extension": ".py",
   "mimetype": "text/x-python",
   "name": "python",
   "nbconvert_exporter": "python",
   "pygments_lexer": "ipython3",
   "version": "3.9.12"
  }
 },
 "nbformat": 4,
 "nbformat_minor": 5
}
